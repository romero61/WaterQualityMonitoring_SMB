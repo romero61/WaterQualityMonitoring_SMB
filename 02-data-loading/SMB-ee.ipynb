{
 "cells": [
  {
   "attachments": {},
   "cell_type": "markdown",
   "metadata": {},
   "source": [
    "# Reproducing Chlorophyll-a Analysis in Santa Monica Bay Using Landsat 8\n",
    "This notebook aims to reproduce and extend the analysis conducted in the ocean remote sensing project titled \"Remote Sensing of Chlorophyll-a using Landsat 8\". The original project, available  [here](https://romero61.github.io/posts/SMB/), focused on the analysis of Chlorophyll-a concentrations in the Santa Monica Bay. The study was based on the methodology proposed by Trinh et al. 2017.\n",
    "\n",
    "We utilize Landsat 8 satellite imagery to estimate Chlorophyll-a concentrations, and analyze changes over time, particularly focusing on the impact of the Hyperion Treatment Plant failure.\n",
    "\n",
    "The notebook includes the following steps:\n",
    "\n",
    "1. Importing necessary Python libraries for data manipulation, mathematical operations, data visualization, handling date and time data, interacting with Google Earth Engine, and handling geospatial data.\n",
    "\n",
    "2. Initializing the Earth Engine API and creating an interactive map using the geemap library.\n",
    "\n",
    "3. Defining the collection of satellite images to be used (Landsat 8 OLI images) and the study area.\n",
    "\n",
    "4. Processing the satellite images, including applying scale factors and estimating Chlorophyll-a concentrations.\n",
    "\n",
    "5. Visualizing the processed images on an interactive map.\n",
    "\n",
    "The next steps of this project will include retrieving the most recent image from the collection, calculating basic statistics for Chlorophyll-a concentrations, allowing user-defined regions for analysis, and integrating this script into an R Shiny dashboard for interactive data exploration.\n",
    "\n",
    "Trinh, R. C., Fichot, C. G., Gierach, M. M., Holt, B., Malakar, N. K., Hulley, G., & Smith, J. (2017). Application of Landsat 8 for Monitoring Impacts of Wastewater Discharge on Coastal Water Quality. Frontiers in Marine Science, 4. https://doi.org/10.3389/fmars.2017.00329"
   ]
  },
  {
   "cell_type": "code",
   "execution_count": null,
   "metadata": {
    "tags": []
   },
   "outputs": [],
   "source": [
    "#1) Import all necessary packages\n",
    "import pandas as pd\n",
    "import numpy as np\n",
    "import matplotlib.pyplot as plt\n",
    "import datetime\n",
    "import ee\n",
    "import geemap.foliumap as geemap\n",
    "import geopandas as gpd\n",
    "import ipywidgets as widgets\n"
   ]
  },
  {
   "cell_type": "code",
   "execution_count": null,
   "metadata": {},
   "outputs": [],
   "source": [
    "from constants import   STUDY_BOUNDARY_PATH\n"
   ]
  },
  {
   "attachments": {},
   "cell_type": "markdown",
   "metadata": {},
   "source": [
    "# Import Landsat8 OLI\n",
    "\n",
    "https://developers.google.com/earth-engine/datasets/catalog/LANDSAT_LC08_C02_T1_L2#terms-of-use\n",
    "\n",
    " Landsat-8 image courtesy of the U.S. Geological Survey"
   ]
  },
  {
   "cell_type": "code",
   "execution_count": null,
   "metadata": {
    "tags": []
   },
   "outputs": [],
   "source": [
    "#ee.Authenticate()\n",
    "ee.Initialize()"
   ]
  },
  {
   "cell_type": "code",
   "execution_count": null,
   "metadata": {},
   "outputs": [],
   "source": [
    "# Create an interactive map\n",
    "Map = geemap.Map()\n",
    "Map.add_basemap(basemap='SATELLITE')\n",
    "\n"
   ]
  },
  {
   "cell_type": "code",
   "execution_count": null,
   "metadata": {},
   "outputs": [],
   "source": [
    "# Define the collection\n",
    "collection = \"LANDSAT/LC08/C02/T1_L2\""
   ]
  },
  {
   "cell_type": "code",
   "execution_count": null,
   "metadata": {},
   "outputs": [],
   "source": [
    "shapefile_path = STUDY_BOUNDARY_PATH\n",
    "study_boundary = gpd.read_file(shapefile_path)"
   ]
  },
  {
   "cell_type": "code",
   "execution_count": null,
   "metadata": {},
   "outputs": [],
   "source": [
    "# Load the study area\n",
    "ee_boundary = geemap.geopandas_to_ee(study_boundary)\n"
   ]
  },
  {
   "cell_type": "code",
   "execution_count": null,
   "metadata": {},
   "outputs": [],
   "source": [
    "aoi = ee_boundary.geometry()"
   ]
  },
  {
   "cell_type": "code",
   "execution_count": null,
   "metadata": {},
   "outputs": [],
   "source": [
    "# Define the dates of interest\n",
    "dates = ['2021-07-06', '2021-07-22', '2021-08-07', '2021-10-10', '2021-10-26', '2021-11-11']\n"
   ]
  },
  {
   "cell_type": "code",
   "execution_count": null,
   "metadata": {},
   "outputs": [],
   "source": [
    "def apply_scale_factors(image):\n",
    "    optical_bands = image.select('SR_B.*').multiply(0.0000275).add(-0.2)\n",
    "    thermal_bands = image.select('ST_B.*').multiply(0.00341802).add(149.0)\n",
    "    image = image.addBands(optical_bands, None, True)\n",
    "    image = image.addBands(thermal_bands, None, True)\n",
    "    return image\n"
   ]
  },
  {
   "cell_type": "code",
   "execution_count": null,
   "metadata": {},
   "outputs": [],
   "source": [
    "vis_params = { \"bands\": ['SR_B4', 'SR_B3', 'SR_B2'],\n",
    "  \"min\": 0.0,\n",
    "  \"max\": 0.3\n",
    "}"
   ]
  },
  {
   "cell_type": "code",
   "execution_count": null,
   "metadata": {
    "tags": []
   },
   "outputs": [],
   "source": [
    "# Loop through the dates and get the imagery\n",
    "for date in dates:\n",
    "    start_date = ee.Date(date)\n",
    "    end_date = start_date.advance(1, 'day')\n",
    "\n",
    "    # Filter the image collection by date and area\n",
    "    image = ee.ImageCollection(collection) \\\n",
    "        .filterDate(start_date, end_date) \\\n",
    "        .filterBounds(aoi) \\\n",
    "        .first()  # get the first image that matches the filters\n",
    "\n",
    "    if image:  # check if image exists\n",
    "        print(f\"Image for date {date} found!\")\n",
    "        processed_image = apply_scale_factors(image)\n",
    "        Map.addLayer(processed_image, vis_params, date)  # add the image to the map\n",
    "    else:\n",
    "        print(f\"No image found for date {date}\")\n",
    "\n",
    "# Set the map to focus on the study area\n",
    "Map.centerObject(ee_boundary, zoom=10)\n",
    "# Display the map\n",
    "Map\n"
   ]
  },
  {
   "attachments": {},
   "cell_type": "markdown",
   "metadata": {},
   "source": [
    "https://calekochenour.github.io/remote-sensing-textbook/03-beginner/chapter13-data-quality-bitmasks.html\n"
   ]
  },
  {
   "cell_type": "code",
   "execution_count": null,
   "metadata": {},
   "outputs": [],
   "source": [
    "# =========\n",
    "# Functions \n",
    "# =========\n",
    "\n",
    "def extract_qa_bits(qa_band, start_bit, end_bit, band_name):\n",
    "    \"\"\"\n",
    "    Extracts QA values from an image\n",
    "    :param qa_band: Single-band image of the QA layer\n",
    "    :type qa_band: ee.Image\n",
    "    :param start_bit: Starting bit\n",
    "    :type start_bit: Integer\n",
    "    :param end_bit: Ending bit\n",
    "    :type end_bit: Integer\n",
    "    :param band_name: New name for the band\n",
    "    :type band_name: String\n",
    "    :return: Image with extracted QA values\n",
    "    :rtype: ee.Image\n",
    "    \"\"\"\n",
    "    # Initialize QA bit string/pattern to check QA band against\n",
    "    qa_bits = 0\n",
    "    # Add each specified QA bit flag value/string/pattern to the QA bits to check/extract\n",
    "    for bit in range(start_bit, end_bit + 1):\n",
    "        qa_bits += pow(2, bit)  # Same as qa_bits += (1 << bit)\n",
    "    # Return a single band image of the extracted QA bit values\n",
    "    return qa_band.select([0], [band_name]).bitwiseAnd(qa_bits).rightShift(start_bit)\n"
   ]
  },
  {
   "cell_type": "code",
   "execution_count": null,
   "metadata": {},
   "outputs": [],
   "source": [
    "def trinh_et_al_chl_a(image):\n",
    "    # extract the cloud and water masks\n",
    "    qa_band = ee.Image(image).select('QA_PIXEL')\n",
    "    cloudMask = extract_qa_bits(qa_band, 8, 9, \"cloud\").neq(3)  # different than 3 to remove clouds\n",
    "    waterMask = extract_qa_bits(qa_band, 7, 7, \"water\").eq(1)  # equals 1 to keep water\n",
    "\n",
    "    # apply the masks to the image\n",
    "    image = image.updateMask(cloudMask).updateMask(waterMask)\n",
    "    image =  apply_scale_factors(image)\n",
    "\n",
    "    a_0 = 0.9375\n",
    "    a_1 = -1.8862\n",
    "    blue_bands = image.select('SR_B2')\n",
    "    green_bands = image.select('SR_B3')\n",
    "    ln_chl_a = image.expression(\"a_0 + a_1 * log(blue_bands/green_bands)\", {\n",
    "        'a_0': a_0,\n",
    "        'a_1': a_1,\n",
    "        'blue_bands': blue_bands,\n",
    "        'green_bands': green_bands\n",
    "    })\n",
    "    image = image.addBands(ln_chl_a.select([0], ['ln_chl_a']))\n",
    "\n",
    "\n",
    "    return image\n",
    "\n"
   ]
  },
  {
   "cell_type": "code",
   "execution_count": null,
   "metadata": {},
   "outputs": [],
   "source": [
    "turbo_palette = [\n",
    "    \"30123b\", \"321543\", \"33184a\", \"341b51\", \"351e58\", \"36215f\", \"372466\", \"38276d\", \n",
    "    \"392a73\", \"3a2d79\", \"3b2f80\", \"3c3286\", \"3d358b\", \"3e3891\", \"3f3b97\", \"3f3e9c\", \n",
    "    \"4040a2\", \"4143a7\", \"4146ac\", \"4249b1\", \"424bb5\", \"434eba\", \"4451bf\", \"4454c3\", \n",
    "    \"4456c7\", \"4559cb\", \"455ccf\", \"455ed3\", \"4661d6\", \"4664da\", \"4666dd\", \"4669e0\", \n",
    "    \"466be3\", \"476ee6\", \"4771e9\", \"4773eb\", \"4776ee\", \"4778f0\", \"477bf2\", \"467df4\", \n",
    "    \"4680f6\", \"4682f8\", \"4685fa\", \"4687fb\", \"458afc\", \"458cfd\", \"448ffe\", \"4391fe\", \n",
    "    \"4294ff\", \"4196ff\", \"4099ff\", \"3e9bfe\", \"3d9efe\", \"3ba0fd\", \"3aa3fc\", \"38a5fb\", \n",
    "    \"37a8fa\", \"35abf8\", \"33adf7\", \"31aff5\", \"2fb2f4\", \"2eb4f2\", \"2cb7f0\", \"2ab9ee\", \n",
    "    \"28bceb\", \"27bee9\", \"25c0e7\", \"23c3e4\", \"22c5e2\", \"20c7df\", \"1fc9dd\", \"1ecbda\", \n",
    "    \"1ccdd8\", \"1bd0d5\", \"1ad2d2\", \"1ad4d0\", \"19d5cd\", \"18d7ca\", \"18d9c8\", \"18dbc5\", \n",
    "    \"18ddc2\", \"18dec0\", \"18e0bd\", \"19e2bb\", \"19e3b9\", \"1ae4b6\", \"1ce6b4\", \"1de7b2\", \n",
    "    \"1fe9af\", \"20eaac\", \"22ebaa\", \"25eca7\", \"27eea4\", \"2aefa1\", \"2cf09e\", \"2ff19b\", \n",
    "    \"32f298\", \"35f394\", \"38f491\", \"3cf58e\", \"3ff68a\", \"43f787\", \"46f884\", \"4af880\", \n",
    "    \"4ef97d\", \"52fa7a\", \"55fa76\", \"59fb73\", \"5dfc6f\", \"61fc6c\", \"65fd69\", \"69fd66\", \n",
    "    \"6dfe62\", \"71fe5f\", \"75fe5c\", \"79fe59\", \"7dff56\", \"80ff53\", \"84ff51\", \"88ff4e\", \n",
    "    \"8bff4b\", \"8fff49\", \"92ff47\", \"96fe44\", \"99fe42\", \"9cfe40\", \"9ffd3f\", \"a1fd3d\", \"a4fc3c\", \"a7fc3a\", \"a9fb39\", \"acfb38\", \n",
    "    \"affa37\", \"b1f936\", \"b4f836\", \"b7f735\", \"b9f635\", \"bcf534\", \"bef434\", \"c1f334\", \n",
    "    \"c3f134\", \"c6f034\", \"c8ef34\", \"cbed34\", \"cdec34\", \"d0ea34\", \"d2e935\", \"d4e735\", \n",
    "    \"d7e535\", \"d9e436\", \"dbe236\", \"dde037\", \"dfdf37\", \"e1dd37\", \"e3db38\", \"e5d938\", \n",
    "    \"e7d739\", \"e9d539\", \"ebd339\", \"ecd13a\", \"eecf3a\", \"efcd3a\", \"f1cb3a\", \"f2c93a\", \n",
    "    \"f4c73a\", \"f5c53a\", \"f6c33a\", \"f7c13a\", \"f8be39\", \"f9bc39\", \"faba39\", \"fbb838\", \n",
    "    \"fbb637\", \"fcb336\", \"fcb136\", \"fdae35\", \"fdac34\", \"fea933\", \"fea732\", \"fea431\", \n",
    "    \"fea130\", \"fe9e2f\", \"fe9b2d\", \"fe992c\", \"fe962b\", \"fe932a\", \"fe9029\", \"fd8d27\", \n",
    "    \"fd8a26\", \"fc8725\", \"fc8423\", \"fb8122\", \"fb7e21\", \"fa7b1f\", \"f9781e\", \"f9751d\", \n",
    "    \"f8721c\", \"f76f1a\", \"f66c19\", \"f56918\", \"f46617\", \"f36315\", \"f26014\", \"f15d13\", \n",
    "    \"f05b12\", \"ef5811\", \"ed5510\", \"ec530f\", \"eb500e\", \"ea4e0d\", \"e84b0c\", \"e7490c\", \n",
    "    \"e5470b\", \"e4450a\", \"e2430a\", \"e14109\", \"df3f08\", \"dd3d08\", \"dc3b07\", \"da3907\", \n",
    "    \"d83706\", \"d63506\", \"d43305\", \"d23105\", \"d02f05\", \"ce2d04\", \"cc2b04\", \"ca2a04\", \n",
    "    \"c82803\", \"c52603\", \"c32503\", \"c12302\", \"be2102\", \"bc2002\", \"b91e02\", \"b71d02\", \n",
    "    \"b41b01\", \"b21a01\", \"af1801\", \"ac1701\", \"a91601\", \"a71401\", \"a41301\", \"a11201\", \n",
    "    \"9e1001\", \"9b0f01\", \"980e01\", \"950d01\", \"920b01\", \"8e0a01\", \"8b0902\", \"880802\", \n",
    "    \"850702\", \"810602\", \"7e0502\", \"7a0403\"\n",
    "]\n",
    "\n"
   ]
  },
  {
   "cell_type": "code",
   "execution_count": null,
   "metadata": {},
   "outputs": [],
   "source": [
    "chloro_params= {\n",
    "  'bands': ['ln_chl_a'],\n",
    "  'min': 0,\n",
    "  'max': 3,\n",
    "  'palette': turbo_palette\n",
    "}"
   ]
  },
  {
   "cell_type": "code",
   "execution_count": null,
   "metadata": {},
   "outputs": [],
   "source": [
    "chloro_map = geemap.Map()\n",
    "chloro_map.centerObject(ee_boundary, zoom=10)\n"
   ]
  },
  {
   "cell_type": "code",
   "execution_count": null,
   "metadata": {},
   "outputs": [],
   "source": [
    "# Loop through the dates and get the imagery\n",
    "for date in dates:\n",
    "    start_date = ee.Date(date)\n",
    "    end_date = start_date.advance(1, 'day')\n",
    "\n",
    "    # Filter the image collection by date and area\n",
    "    image = ee.ImageCollection(collection) \\\n",
    "        .filterDate(start_date, end_date) \\\n",
    "        .filterBounds(aoi) \\\n",
    "        .first()  # get the first image that matches the filters\n",
    "\n",
    "    if image:  # check if image exists\n",
    "        print(f\"Image for date {date} found!\")\n",
    "        processed_image = trinh_et_al_chl_a(image)\n",
    "         # Clip the image to the study boundary\n",
    "        clipped_image = processed_image.clip(aoi)\n",
    "        chloro_map.addLayer(clipped_image, chloro_params, date)  # add the image to the map\n",
    "    else:\n",
    "        print(f\"No image found for date {date}\")\n"
   ]
  },
  {
   "cell_type": "code",
   "execution_count": null,
   "metadata": {},
   "outputs": [],
   "source": [
    "# Set the map to focus on the study area\n",
    "chloro_map.centerObject(aoi, zoom=11)\n",
    "chloro_map.add_colorbar_branca(vis_params= chloro_params, colors = turbo_palette,vmin =  0, vmax = 3, label = 'mg m^-3')\n",
    "\n",
    "chloro_map"
   ]
  },
  {
   "cell_type": "code",
   "execution_count": null,
   "metadata": {},
   "outputs": [],
   "source": [
    "date_picker = widgets.DatePicker(description='Pick a Date', disabled=False)\n",
    "date_picker"
   ]
  }
 ],
 "metadata": {
  "kernelspec": {
   "display_name": "smb",
   "language": "python",
   "name": "smb"
  },
  "language_info": {
   "codemirror_mode": {
    "name": "ipython",
    "version": 3
   },
   "file_extension": ".py",
   "mimetype": "text/x-python",
   "name": "python",
   "nbconvert_exporter": "python",
   "pygments_lexer": "ipython3",
   "version": "3.11.0"
  }
 },
 "nbformat": 4,
 "nbformat_minor": 4
}
