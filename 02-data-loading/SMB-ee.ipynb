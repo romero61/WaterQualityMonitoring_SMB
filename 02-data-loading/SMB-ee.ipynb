{
 "cells": [
  {
   "cell_type": "code",
   "execution_count": 1,
   "metadata": {
    "tags": []
   },
   "outputs": [],
   "source": [
    "#1) Import all necessary packages\n",
    "import pandas as pd\n",
    "import numpy as np\n",
    "import matplotlib.pyplot as plt\n",
    "import datetime\n",
    "import ee\n",
    "import geemap\n",
    "import geopandas as gpd\n"
   ]
  },
  {
   "cell_type": "code",
   "execution_count": 2,
   "metadata": {},
   "outputs": [],
   "source": [
    "from constants import   STUDY_BOUNDARY_PATH\n"
   ]
  },
  {
   "attachments": {},
   "cell_type": "markdown",
   "metadata": {},
   "source": [
    "# Import Landsat8 OLI\n",
    "\n",
    "https://developers.google.com/earth-engine/datasets/catalog/LANDSAT_LC08_C02_T1_L2#terms-of-use\n",
    "\n",
    " Landsat-8 image courtesy of the U.S. Geological Survey"
   ]
  },
  {
   "cell_type": "code",
   "execution_count": 3,
   "metadata": {
    "tags": []
   },
   "outputs": [],
   "source": [
    "#ee.Authenticate()\n",
    "ee.Initialize()"
   ]
  },
  {
   "cell_type": "code",
   "execution_count": 4,
   "metadata": {},
   "outputs": [],
   "source": [
    "# Create an interactive map\n",
    "Map = geemap.Map()\n",
    "\n"
   ]
  },
  {
   "cell_type": "code",
   "execution_count": 5,
   "metadata": {},
   "outputs": [
    {
     "data": {
      "application/vnd.jupyter.widget-view+json": {
       "model_id": "2b05d533c4d440e68fbe8e8b5158e5f5",
       "version_major": 2,
       "version_minor": 0
      },
      "text/plain": [
       "Map(center=[20, 0], controls=(WidgetControl(options=['position', 'transparent_bg'], widget=HBox(children=(Togg…"
      ]
     },
     "execution_count": 5,
     "metadata": {},
     "output_type": "execute_result"
    }
   ],
   "source": [
    "# Display the map\n",
    "Map"
   ]
  },
  {
   "cell_type": "code",
   "execution_count": 6,
   "metadata": {},
   "outputs": [],
   "source": [
    "# Define the collection\n",
    "collection = \"LANDSAT/LC08/C02/T1_L2\""
   ]
  },
  {
   "cell_type": "code",
   "execution_count": 7,
   "metadata": {},
   "outputs": [],
   "source": [
    "shapefile_path = STUDY_BOUNDARY_PATH\n",
    "study_boundary = gpd.read_file(shapefile_path)"
   ]
  },
  {
   "cell_type": "code",
   "execution_count": 8,
   "metadata": {},
   "outputs": [],
   "source": [
    "# Load the study area\n",
    "ee_boundary = geemap.geopandas_to_ee(study_boundary)\n"
   ]
  },
  {
   "cell_type": "code",
   "execution_count": 9,
   "metadata": {},
   "outputs": [],
   "source": [
    "aoi = ee_boundary.geometry()"
   ]
  },
  {
   "cell_type": "code",
   "execution_count": 10,
   "metadata": {},
   "outputs": [],
   "source": [
    "# Define the dates of interest\n",
    "dates = ['2021-07-06', '2021-07-22', '2021-08-07', '2021-10-10', '2021-10-26', '2021-11-11']\n"
   ]
  },
  {
   "cell_type": "code",
   "execution_count": 11,
   "metadata": {},
   "outputs": [],
   "source": [
    "image = ee.ImageCollection(collection) \\\n",
    "    .filterDate('2021-07-06', '2021-07-07') \\\n",
    "    .filterBounds(aoi) \\\n",
    "    .first()  # get the first image that matches the filters"
   ]
  },
  {
   "cell_type": "code",
   "execution_count": 12,
   "metadata": {},
   "outputs": [],
   "source": [
    "def apply_scale_factors(image):\n",
    "    optical_bands = image.select('SR_B.*').multiply(0.0000275).add(-0.2)\n",
    "    thermal_bands = image.select('ST_B.*').multiply(0.00341802).add(149.0)\n",
    "    image = image.addBands(optical_bands, None, True)\n",
    "    image = image.addBands(thermal_bands, None, True)\n",
    "    return image\n"
   ]
  },
  {
   "cell_type": "code",
   "execution_count": 13,
   "metadata": {},
   "outputs": [],
   "source": [
    "vis_params = { \"bands\": ['SR_B4', 'SR_B3', 'SR_B2'],\n",
    "  \"min\": 0.0,\n",
    "  \"max\": 0.3\n",
    "}"
   ]
  },
  {
   "cell_type": "code",
   "execution_count": 14,
   "metadata": {
    "tags": []
   },
   "outputs": [
    {
     "name": "stdout",
     "output_type": "stream",
     "text": [
      "Image for date 2021-07-06 found!\n",
      "Image for date 2021-07-22 found!\n",
      "Image for date 2021-08-07 found!\n",
      "Image for date 2021-10-10 found!\n",
      "Image for date 2021-10-26 found!\n",
      "Image for date 2021-11-11 found!\n"
     ]
    }
   ],
   "source": [
    "# Loop through the dates and get the imagery\n",
    "for date in dates:\n",
    "    start_date = ee.Date(date)\n",
    "    end_date = start_date.advance(1, 'day')\n",
    "\n",
    "    # Filter the image collection by date and area\n",
    "    image = ee.ImageCollection(collection) \\\n",
    "        .filterDate(start_date, end_date) \\\n",
    "        .filterBounds(aoi) \\\n",
    "        .first()  # get the first image that matches the filters\n",
    "\n",
    "    if image:  # check if image exists\n",
    "        print(f\"Image for date {date} found!\")\n",
    "        processed_image = apply_scale_factors(image)\n",
    "        Map.addLayer(processed_image, vis_params, date)  # add the image to the map\n",
    "    else:\n",
    "        print(f\"No image found for date {date}\")\n",
    "\n",
    "# Set the map to focus on the study area\n",
    "Map.centerObject(ee_boundary, zoom=10)\n",
    "\n"
   ]
  },
  {
   "cell_type": "code",
   "execution_count": 16,
   "metadata": {},
   "outputs": [
    {
     "data": {
      "application/vnd.jupyter.widget-view+json": {
       "model_id": "4938ae40ce1f480c81c283ab2d01d826",
       "version_major": 2,
       "version_minor": 0
      },
      "text/plain": [
       "Map(center=[33.90594544379043, -118.40630988275745], controls=(WidgetControl(options=['position', 'transparent…"
      ]
     },
     "execution_count": 16,
     "metadata": {},
     "output_type": "execute_result"
    }
   ],
   "source": [
    "chloro_map = geemap.Map()\n",
    "chloro_map.centerObject(ee_boundary, zoom=10)\n",
    "chloro_map"
   ]
  },
  {
   "cell_type": "code",
   "execution_count": null,
   "metadata": {},
   "outputs": [],
   "source": [
    "def trinh_et_al_chl_a(image):\n",
    "    a_0 = 0.9375\n",
    "    a_1 = -1.8862\n",
    "    optical_bands = image.select('SR_B.*').multiply(0.0000275).add(-0.2)\n",
    "    thermal_bands = image.select('ST_B.*').multiply(0.00341802).add(149.0)\n",
    "    image = image.addBands(optical_bands, None, True)\n",
    "    image = image.addBands(thermal_bands, None, True)\n",
    "    return image"
   ]
  },
  {
   "cell_type": "code",
   "execution_count": null,
   "metadata": {},
   "outputs": [],
   "source": [
    "# Loop through the dates and get the imagery\n",
    "for date in dates:\n",
    "    start_date = ee.Date(date)\n",
    "    end_date = start_date.advance(1, 'day')\n",
    "\n",
    "    # Filter the image collection by date and area\n",
    "    image = ee.ImageCollection(collection) \\\n",
    "        .filterDate(start_date, end_date) \\\n",
    "        .filterBounds(aoi) \\\n",
    "        .first()  # get the first image that matches the filters\n",
    "\n",
    "    if image:  # check if image exists\n",
    "        print(f\"Image for date {date} found!\")\n",
    "        processed_image = apply_scale_factors(image)\n",
    "        Map.addLayer(processed_image, vis_params, date)  # add the image to the map\n",
    "    else:\n",
    "        print(f\"No image found for date {date}\")\n",
    "\n",
    "# Set the map to focus on the study area\n",
    "Map.centerObject(ee_boundary, zoom=10)"
   ]
  }
 ],
 "metadata": {
  "kernelspec": {
   "display_name": "smb",
   "language": "python",
   "name": "smb"
  },
  "language_info": {
   "codemirror_mode": {
    "name": "ipython",
    "version": 3
   },
   "file_extension": ".py",
   "mimetype": "text/x-python",
   "name": "python",
   "nbconvert_exporter": "python",
   "pygments_lexer": "ipython3",
   "version": "3.11.0"
  }
 },
 "nbformat": 4,
 "nbformat_minor": 4
}
