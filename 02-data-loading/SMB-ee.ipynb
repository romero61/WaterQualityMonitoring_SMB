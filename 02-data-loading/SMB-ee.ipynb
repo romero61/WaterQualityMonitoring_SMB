{
 "cells": [
  {
   "cell_type": "code",
   "execution_count": 1,
   "metadata": {
    "tags": []
   },
   "outputs": [],
   "source": [
    "#1) Import all necessary packages\n",
    "import pandas as pd\n",
    "import numpy as np\n",
    "import matplotlib.pyplot as plt\n",
    "import datetime\n",
    "import ee\n",
    "import geemap\n",
    "import geopandas as gpd\n"
   ]
  },
  {
   "cell_type": "code",
   "execution_count": 2,
   "metadata": {},
   "outputs": [],
   "source": [
    "from constants import   STUDY_BOUNDARY_PATH\n"
   ]
  },
  {
   "attachments": {},
   "cell_type": "markdown",
   "metadata": {},
   "source": [
    "# Import Landsat8 OLI\n",
    "\n",
    "https://developers.google.com/earth-engine/datasets/catalog/LANDSAT_LC08_C02_T1_L2#terms-of-use\n",
    "\n",
    " Landsat-8 image courtesy of the U.S. Geological Survey"
   ]
  },
  {
   "cell_type": "code",
   "execution_count": 3,
   "metadata": {
    "tags": []
   },
   "outputs": [],
   "source": [
    "#ee.Authenticate()\n",
    "ee.Initialize()"
   ]
  },
  {
   "cell_type": "code",
   "execution_count": 4,
   "metadata": {},
   "outputs": [
    {
     "data": {
      "application/vnd.jupyter.widget-view+json": {
       "model_id": "8ab1cd7fe5c44432aa87900f3bc3ec9c",
       "version_major": 2,
       "version_minor": 0
      },
      "text/plain": [
       "Map(center=[20, 0], controls=(WidgetControl(options=['position', 'transparent_bg'], widget=HBox(children=(Togg…"
      ]
     },
     "execution_count": 4,
     "metadata": {},
     "output_type": "execute_result"
    }
   ],
   "source": [
    "# Create an interactive map\n",
    "Map = geemap.Map()\n",
    "\n",
    "# Display the map\n",
    "Map"
   ]
  },
  {
   "cell_type": "code",
   "execution_count": null,
   "metadata": {},
   "outputs": [],
   "source": [
    "# Define the collection\n",
    "collection = \"LANDSAT/LC08/C02/T1_L2\""
   ]
  },
  {
   "cell_type": "code",
   "execution_count": null,
   "metadata": {},
   "outputs": [],
   "source": [
    "shapefile_path = STUDY_BOUNDARY_PATH\n",
    "study_boundary = gpd.read_file(shapefile_path)"
   ]
  },
  {
   "cell_type": "code",
   "execution_count": null,
   "metadata": {},
   "outputs": [],
   "source": [
    "# Load the study area\n",
    "ee_boundary = geemap.geopandas_to_ee(study_boundary)\n"
   ]
  },
  {
   "cell_type": "code",
   "execution_count": null,
   "metadata": {},
   "outputs": [],
   "source": [
    "aoi = ee_boundary.geometry()"
   ]
  },
  {
   "cell_type": "code",
   "execution_count": null,
   "metadata": {},
   "outputs": [],
   "source": [
    "aoi"
   ]
  },
  {
   "cell_type": "code",
   "execution_count": null,
   "metadata": {},
   "outputs": [],
   "source": [
    "# Define the dates of interest\n",
    "dates = ['2021-07-06', '2021-07-22', '2021-08-07', '2021-10-10', '2021-10-26', '2021-11-11']\n"
   ]
  },
  {
   "cell_type": "code",
   "execution_count": null,
   "metadata": {},
   "outputs": [],
   "source": [
    "\n"
   ]
  },
  {
   "cell_type": "code",
   "execution_count": null,
   "metadata": {
    "tags": []
   },
   "outputs": [],
   "source": [
    "\n",
    "\n",
    "# Loop through the dates and get the imagery\n",
    "for date in dates:\n",
    "    start_date = ee.Date(date)\n",
    "    end_date = start_date.advance(1, 'day')\n",
    "\n",
    "    # Filter the image collection by date and area\n",
    "    image = ee.ImageCollection(collection) \\\n",
    "        .filterDate(start_date, end_date) \\\n",
    "        .filterBounds(aoi) \\\n",
    "        .first()  # get the first image that matches the filters\n",
    "\n",
    "    if image:  # check if image exists\n",
    "        print(f\"Image for date {date} found!\")\n",
    "        vis_params = {\n",
    "            'bands': ['SR_B4', 'SR_B3', 'SR_B2'],  # specify the bands for RGB\n",
    "            'min': 0,\n",
    "            'max': 3000,\n",
    "            'gamma': 1.4\n",
    "        }\n",
    "        Map.addLayer(image, vis_params, date)  # add the image to the map\n",
    "    else:\n",
    "        print(f\"No image found for date {date}\")\n",
    "\n",
    "# Set the map to focus on the study area\n",
    "Map.centerObject(ee_boundary, zoom=10)\n",
    "\n"
   ]
  },
  {
   "cell_type": "code",
   "execution_count": null,
   "metadata": {},
   "outputs": [],
   "source": [
    "export_params = {\n",
    "    'scale': 30, # Resolution in meters\n",
    "    'region': ee_boundary, # Export only the region of interest\n",
    "    'crs': 'EPSG:4326', # Coordinate reference system (optional)\n",
    "    'fileFormat': 'GeoTIFF', # Export format (GeoTIFF or other supported formats)\n",
    "    'fileNamePrefix': 'clipped_hansen_dataset', # Prefix for the exported file name\n",
    "}\n",
    "# Get the geometry and scale (resolution) of the clipped raster\n",
    "geometry = ee_boundary.geometry()\n",
    "scale = export_params['scale']\n",
    "\n",
    "# Compute the pixel dimensions of the exported raster\n",
    "dimensions = ee.Image.pixelLonLat().reproject(geometry.projection().atScale(scale)).reduceRegion(\n",
    "    reducer=ee.Reducer.minMax(),\n",
    "    geometry=geometry,\n",
    "    scale=scale,\n",
    "    maxPixels=1e10\n",
    ").getInfo()\n",
    "\n",
    "pixel_width = dimensions['longitude_max'] - dimensions['longitude_min']\n",
    "pixel_height = dimensions['latitude_max'] - dimensions['latitude_min']\n",
    "\n",
    "# Estimate the number of pixels\n",
    "num_pixels = pixel_width * pixel_height\n",
    "print(f\"Number of pixels: {num_pixels}\")\n",
    "\n",
    "# Estimate the file size in bytes (assuming 4 bytes per pixel per band for GeoTIFF format)``\n",
    "file_size_bytes = num_pixels * num_bands * 4\n",
    "print(f\"Estimated file size (bytes): {file_size_bytes}\")\n",
    "\n",
    "\n",
    "\n"
   ]
  },
  {
   "attachments": {},
   "cell_type": "markdown",
   "metadata": {},
   "source": [
    "# Export Deforestation and TreeCover Files\n",
    "\n"
   ]
  },
  {
   "cell_type": "code",
   "execution_count": null,
   "metadata": {},
   "outputs": [],
   "source": [
    "# Extract the first feature from the FeatureCollection\n",
    "ee_boundary_feature = ee_boundary.first()\n",
    "\n",
    "# Get the geometry of the feature\n",
    "ee_boundary_geometry = ee_boundary_feature.geometry()\n",
    "\n",
    "# Get the coordinates of the geometry\n",
    "ee_boundary_coordinates = ee_boundary_geometry.coordinates().getInfo()\n",
    "\n",
    "\n"
   ]
  },
  {
   "cell_type": "code",
   "execution_count": null,
   "metadata": {},
   "outputs": [],
   "source": [
    "# Update the export_params dictionary\n",
    "export_params = {\n",
    "    'scale': 30,\n",
    "    'region': ee_boundary_coordinates,\n",
    "    'crs': 'EPSG:4326',\n",
    "    'fileFormat': 'GeoTIFF',\n",
    "    'fileNamePrefix': 'clipped_hansen_lossyear',\n",
    "}\n",
    "\n",
    "# Your existing export task code\n",
    "export_task = ee.batch.Export.image.toDrive(\n",
    "    image=clipped_hansen_dataset.select('lossyear'),\n",
    "    description='lossyear',\n",
    "    folder='hansen_data', # specify a folder in your Google Drive\n",
    "    maxPixels=1e10,\n",
    "    **export_params\n",
    ")\n",
    "\n",
    "export_task.start()"
   ]
  },
  {
   "attachments": {},
   "cell_type": "markdown",
   "metadata": {},
   "source": [
    "A new empty folder will appear in the google drive associated with Earth Engine account.\n",
    "The export process takes a considerable amount of time, progress can be monitored at\n",
    "https://code.earthengine.google.com/tasks"
   ]
  }
 ],
 "metadata": {
  "kernelspec": {
   "display_name": "pyforest",
   "language": "python",
   "name": "pyforest"
  },
  "language_info": {
   "codemirror_mode": {
    "name": "ipython",
    "version": 3
   },
   "file_extension": ".py",
   "mimetype": "text/x-python",
   "name": "python",
   "nbconvert_exporter": "python",
   "pygments_lexer": "ipython3",
   "version": "3.11.0"
  }
 },
 "nbformat": 4,
 "nbformat_minor": 4
}
